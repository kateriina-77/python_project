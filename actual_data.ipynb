{
 "cells": [
  {
   "attachments": {},
   "cell_type": "markdown",
   "metadata": {},
   "source": [
    "# Обработка фактических данных после парсинга\n",
    "## Обзор данных"
   ]
  },
  {
   "cell_type": "code",
   "execution_count": 1,
   "metadata": {},
   "outputs": [],
   "source": [
    "import scripts.pars as pars\n",
    "from datetime import datetime"
   ]
  },
  {
   "cell_type": "code",
   "execution_count": 4,
   "metadata": {},
   "outputs": [
    {
     "data": {
      "text/html": [
       "<div>\n",
       "<style scoped>\n",
       "    .dataframe tbody tr th:only-of-type {\n",
       "        vertical-align: middle;\n",
       "    }\n",
       "\n",
       "    .dataframe tbody tr th {\n",
       "        vertical-align: top;\n",
       "    }\n",
       "\n",
       "    .dataframe thead th {\n",
       "        text-align: right;\n",
       "    }\n",
       "</style>\n",
       "<table border=\"1\" class=\"dataframe\">\n",
       "  <thead>\n",
       "    <tr style=\"text-align: right;\">\n",
       "      <th></th>\n",
       "      <th>time</th>\n",
       "      <th>temperature_2m</th>\n",
       "      <th>relativehumidity_2m</th>\n",
       "      <th>dewpoint_2m</th>\n",
       "      <th>weathercode</th>\n",
       "      <th>surface_pressure</th>\n",
       "      <th>visibility</th>\n",
       "      <th>windspeed_10m</th>\n",
       "    </tr>\n",
       "  </thead>\n",
       "  <tbody>\n",
       "    <tr>\n",
       "      <th>0</th>\n",
       "      <td>2023-05-29T00:00</td>\n",
       "      <td>8.9</td>\n",
       "      <td>83</td>\n",
       "      <td>6.2</td>\n",
       "      <td>0</td>\n",
       "      <td>1000.6</td>\n",
       "      <td>24140.0</td>\n",
       "      <td>4.3</td>\n",
       "    </tr>\n",
       "    <tr>\n",
       "      <th>1</th>\n",
       "      <td>2023-05-29T01:00</td>\n",
       "      <td>8.8</td>\n",
       "      <td>83</td>\n",
       "      <td>6.0</td>\n",
       "      <td>0</td>\n",
       "      <td>1001.2</td>\n",
       "      <td>24140.0</td>\n",
       "      <td>4.3</td>\n",
       "    </tr>\n",
       "    <tr>\n",
       "      <th>2</th>\n",
       "      <td>2023-05-29T02:00</td>\n",
       "      <td>9.0</td>\n",
       "      <td>82</td>\n",
       "      <td>6.1</td>\n",
       "      <td>0</td>\n",
       "      <td>1001.5</td>\n",
       "      <td>24140.0</td>\n",
       "      <td>4.0</td>\n",
       "    </tr>\n",
       "  </tbody>\n",
       "</table>\n",
       "</div>"
      ],
      "text/plain": [
       "               time  temperature_2m  relativehumidity_2m  dewpoint_2m  \\\n",
       "0  2023-05-29T00:00             8.9                   83          6.2   \n",
       "1  2023-05-29T01:00             8.8                   83          6.0   \n",
       "2  2023-05-29T02:00             9.0                   82          6.1   \n",
       "\n",
       "   weathercode  surface_pressure  visibility  windspeed_10m  \n",
       "0            0            1000.6     24140.0            4.3  \n",
       "1            0            1001.2     24140.0            4.3  \n",
       "2            0            1001.5     24140.0            4.0  "
      ]
     },
     "execution_count": 4,
     "metadata": {},
     "output_type": "execute_result"
    }
   ],
   "source": [
    "data = pars.get_data(pars.url, pars.file_path)\n",
    "df = pars.create_dataframe_from_json(pars.file_path, data)\n",
    "df.head(3)"
   ]
  },
  {
   "cell_type": "code",
   "execution_count": 5,
   "metadata": {},
   "outputs": [
    {
     "name": "stdout",
     "output_type": "stream",
     "text": [
      "Типы данных столбцов:\n",
      " Date/Time             object\n",
      "Temperature (C)      float64\n",
      "Humidity               int64\n",
      "Dew Point (C)        float64\n",
      "Weather                int64\n",
      "Pressure (hPa)       float64\n",
      "visibility           float64\n",
      "Wind Speed (km/h)    float64\n",
      "dtype: object\n",
      "\n",
      "Количество пропущенных значений:\n",
      " Date/Time            0\n",
      "Temperature (C)      0\n",
      "Humidity             0\n",
      "Dew Point (C)        0\n",
      "Weather              0\n",
      "Pressure (hPa)       0\n",
      "visibility           0\n",
      "Wind Speed (km/h)    0\n",
      "dtype: int64\n"
     ]
    }
   ],
   "source": [
    "df = df.rename(columns={'time': 'Date/Time', 'dewpoint_2m': 'Dew Point (C)', 'temperature_2m': 'Temperature (C)',\n",
    "                            'relativehumidity_2m': 'Humidity', 'windspeed_10m': 'Wind Speed (km/h)',\n",
    "                            'surface_pressure': 'Pressure (hPa)', 'weathercode': 'Weather'})\n",
    "print(f'Типы данных столбцов:\\n {df.dtypes}\\n')\n",
    "print(f'Количество пропущенных значений:\\n {df.isnull().sum()}')"
   ]
  },
  {
   "attachments": {},
   "cell_type": "markdown",
   "metadata": {},
   "source": [
    "Переводим Гектопаскали(hPa) в Килопаскали(kPa) и округляем значение до двух знаков после запятой\n",
    "\n",
    "`1 hPa = 0.1 kPa`"
   ]
  },
  {
   "cell_type": "code",
   "execution_count": 6,
   "metadata": {},
   "outputs": [],
   "source": [
    "df['Pressure (kPa)'] = df['Pressure (hPa)'] / 10\n",
    "df = df.drop(columns=['Pressure (hPa)'])\n",
    "df['Pressure (kPa)'] = df['Pressure (kPa)'].round(2)"
   ]
  },
  {
   "attachments": {},
   "cell_type": "markdown",
   "metadata": {},
   "source": [
    "Переводим `visibility` из метров в километры"
   ]
  },
  {
   "cell_type": "code",
   "execution_count": 7,
   "metadata": {},
   "outputs": [],
   "source": [
    "df['Visibility (km)'] = df['visibility'] / 1000\n",
    "df = df.drop(columns=['visibility'])"
   ]
  },
  {
   "cell_type": "code",
   "execution_count": 8,
   "metadata": {},
   "outputs": [],
   "source": [
    "df = df[['Date/Time', 'Temperature (C)', 'Dew Point (C)',\n",
    "             'Humidity', 'Wind Speed (km/h)','Visibility (km)', 'Pressure (kPa)', 'Weather']]"
   ]
  },
  {
   "attachments": {},
   "cell_type": "markdown",
   "metadata": {},
   "source": [
    "Преобразуем столбец `Date/Time` в формат `datetime`"
   ]
  },
  {
   "cell_type": "code",
   "execution_count": 9,
   "metadata": {},
   "outputs": [],
   "source": [
    "df[\"Date/Time\"] = df[\"Date/Time\"].apply(lambda x: datetime.strptime(x, \"%Y-%m-%dT%H:%M\"))"
   ]
  },
  {
   "attachments": {},
   "cell_type": "markdown",
   "metadata": {},
   "source": [
    "Сохраняем полученную таблицу в формате `.csv`"
   ]
  },
  {
   "cell_type": "code",
   "execution_count": 10,
   "metadata": {},
   "outputs": [
    {
     "data": {
      "text/html": [
       "<div>\n",
       "<style scoped>\n",
       "    .dataframe tbody tr th:only-of-type {\n",
       "        vertical-align: middle;\n",
       "    }\n",
       "\n",
       "    .dataframe tbody tr th {\n",
       "        vertical-align: top;\n",
       "    }\n",
       "\n",
       "    .dataframe thead th {\n",
       "        text-align: right;\n",
       "    }\n",
       "</style>\n",
       "<table border=\"1\" class=\"dataframe\">\n",
       "  <thead>\n",
       "    <tr style=\"text-align: right;\">\n",
       "      <th></th>\n",
       "      <th>Date/Time</th>\n",
       "      <th>Temperature (C)</th>\n",
       "      <th>Dew Point (C)</th>\n",
       "      <th>Humidity</th>\n",
       "      <th>Wind Speed (km/h)</th>\n",
       "      <th>Visibility (km)</th>\n",
       "      <th>Pressure (kPa)</th>\n",
       "      <th>Weather</th>\n",
       "    </tr>\n",
       "  </thead>\n",
       "  <tbody>\n",
       "    <tr>\n",
       "      <th>0</th>\n",
       "      <td>2023-05-29 00:00:00</td>\n",
       "      <td>8.9</td>\n",
       "      <td>6.2</td>\n",
       "      <td>83</td>\n",
       "      <td>4.3</td>\n",
       "      <td>24.14</td>\n",
       "      <td>100.06</td>\n",
       "      <td>0</td>\n",
       "    </tr>\n",
       "    <tr>\n",
       "      <th>1</th>\n",
       "      <td>2023-05-29 01:00:00</td>\n",
       "      <td>8.8</td>\n",
       "      <td>6.0</td>\n",
       "      <td>83</td>\n",
       "      <td>4.3</td>\n",
       "      <td>24.14</td>\n",
       "      <td>100.12</td>\n",
       "      <td>0</td>\n",
       "    </tr>\n",
       "    <tr>\n",
       "      <th>2</th>\n",
       "      <td>2023-05-29 02:00:00</td>\n",
       "      <td>9.0</td>\n",
       "      <td>6.1</td>\n",
       "      <td>82</td>\n",
       "      <td>4.0</td>\n",
       "      <td>24.14</td>\n",
       "      <td>100.15</td>\n",
       "      <td>0</td>\n",
       "    </tr>\n",
       "    <tr>\n",
       "      <th>3</th>\n",
       "      <td>2023-05-29 03:00:00</td>\n",
       "      <td>10.0</td>\n",
       "      <td>5.6</td>\n",
       "      <td>74</td>\n",
       "      <td>4.0</td>\n",
       "      <td>24.14</td>\n",
       "      <td>100.15</td>\n",
       "      <td>0</td>\n",
       "    </tr>\n",
       "    <tr>\n",
       "      <th>4</th>\n",
       "      <td>2023-05-29 04:00:00</td>\n",
       "      <td>12.0</td>\n",
       "      <td>5.8</td>\n",
       "      <td>66</td>\n",
       "      <td>5.1</td>\n",
       "      <td>24.14</td>\n",
       "      <td>100.20</td>\n",
       "      <td>0</td>\n",
       "    </tr>\n",
       "  </tbody>\n",
       "</table>\n",
       "</div>"
      ],
      "text/plain": [
       "            Date/Time  Temperature (C)  Dew Point (C)  Humidity  \\\n",
       "0 2023-05-29 00:00:00              8.9            6.2        83   \n",
       "1 2023-05-29 01:00:00              8.8            6.0        83   \n",
       "2 2023-05-29 02:00:00              9.0            6.1        82   \n",
       "3 2023-05-29 03:00:00             10.0            5.6        74   \n",
       "4 2023-05-29 04:00:00             12.0            5.8        66   \n",
       "\n",
       "   Wind Speed (km/h)  Visibility (km)  Pressure (kPa)  Weather  \n",
       "0                4.3            24.14          100.06        0  \n",
       "1                4.3            24.14          100.12        0  \n",
       "2                4.0            24.14          100.15        0  \n",
       "3                4.0            24.14          100.15        0  \n",
       "4                5.1            24.14          100.20        0  "
      ]
     },
     "execution_count": 10,
     "metadata": {},
     "output_type": "execute_result"
    }
   ],
   "source": [
    "df.to_csv('data/parsing_data.csv', sep= ';', index=False)\n",
    "df.head(5)"
   ]
  },
  {
   "attachments": {},
   "cell_type": "markdown",
   "metadata": {},
   "source": [
    "[Open Meteo API](https://open-meteo.com/)"
   ]
  }
 ],
 "metadata": {
  "kernelspec": {
   "display_name": "Python 3",
   "language": "python",
   "name": "python3"
  },
  "language_info": {
   "codemirror_mode": {
    "name": "ipython",
    "version": 3
   },
   "file_extension": ".py",
   "mimetype": "text/x-python",
   "name": "python",
   "nbconvert_exporter": "python",
   "pygments_lexer": "ipython3",
   "version": "3.11.4"
  },
  "orig_nbformat": 4
 },
 "nbformat": 4,
 "nbformat_minor": 2
}
